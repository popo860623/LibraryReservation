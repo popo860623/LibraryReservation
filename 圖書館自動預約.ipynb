{
 "cells": [
  {
   "cell_type": "code",
   "execution_count": 221,
   "metadata": {},
   "outputs": [],
   "source": [
    "import requests\n",
    "from bs4 import BeautifulSoup as bs\n",
    "import matplotlib.image as mpimg\n",
    "import matplotlib.pyplot as plt"
   ]
  },
  {
   "cell_type": "code",
   "execution_count": 230,
   "metadata": {},
   "outputs": [],
   "source": [
    "sessid = ''\n",
    "session = requests.Session()\n",
    "headers ={'User-Agent': 'Mozilla/5.0 (Windows NT 10.0; Win64; x64) AppleWebKit/537.36 (KHTML, like Gecko) Chrome/83.0.4103.97 Safari/537.36'}\n",
    "login_url = 'https://spacemgr.lib.ncku.edu.tw/spacemgr/login.php?Lang=C'\n",
    "\n",
    "###########################################\n",
    "Date = \"2020-06-24\" #預約日期\n",
    "RoomNum = \"547\" #房號\n",
    "time_to_res = \"01\" #e.g. 01;02;03只能選取連續時段\n",
    "###########################################"
   ]
  },
  {
   "cell_type": "code",
   "execution_count": 231,
   "metadata": {},
   "outputs": [
    {
     "data": {
      "text/plain": [
       "<matplotlib.image.AxesImage at 0x29bcc744ac8>"
      ]
     },
     "execution_count": 231,
     "metadata": {},
     "output_type": "execute_result"
    },
    {
     "data": {
      "image/png": "[encoded data removed]",
      "text/plain": [
       "<Figure size 432x288 with 1 Axes>"
      ]
     },
     "metadata": {
      "needs_background": "light"
     },
     "output_type": "display_data"
    }
   ],
   "source": [
    "captcha_img_url = 'https://spacemgr.lib.ncku.edu.tw/spacemgr/Captcha.php'\n",
    "img = session.get(captcha_img_url)\n",
    "with open('captcha.png','wb') as f:\n",
    "    f.write(img.content)\n",
    "    f.flush()\n",
    "f.close()\n",
    "im = mpimg.imread('captcha.png')\n",
    "plt.imshow(im)"
   ]
  },
  {
   "cell_type": "code",
   "execution_count": 224,
   "metadata": {},
   "outputs": [],
   "source": [
    "def login(param):      \n",
    "    r = session.post(login_url,headers=headers,data=param)\n",
    "    res = session.get(reserve_url,headers=headers)\n",
    "    soup = bs(res.text,\"lxml\")\n",
    "    soup.prettify()"
   ]
  },
  {
   "cell_type": "code",
   "execution_count": 209,
   "metadata": {},
   "outputs": [],
   "source": [
    "def get_query_string(s):\n",
    "    return s.split('?')[1]"
   ]
  },
  {
   "cell_type": "code",
   "execution_count": 232,
   "metadata": {},
   "outputs": [],
   "source": [
    "def reserve():\n",
    "    param={'account':'P76081027','passwd':'Popo85427','Captcha':'730121'}\n",
    "    login(param)\n",
    "    waiting_params = 'SpaceCode=Cir_SC&S_R_Date=' + Date + '&RoomNum=' + RoomNum + '&ReservationPeriodList=' + time_to_res\n",
    "    waiting_url = 'https://spacemgr.lib.ncku.edu.tw/spacemgr/SC_GSR/SC_GSR_ReserveAdd_Waiting.php'\n",
    "    sess_url = 'https://spacemgr.lib.ncku.edu.tw/spacemgr/common/Sess_setParameter.php'\n",
    "    OP_url = 'https://spacemgr.lib.ncku.edu.tw/spacemgr/SC_GSR/SC_GSR_ReserveAdd_OP.php'\n",
    "\n",
    "    # post_sess代表有人訪問\n",
    "    session.post(sess_url,headers=headers)\n",
    "    # get送出預定資訊\n",
    "    r = session.get(waiting_url,headers=headers,params=waiting_params)\n",
    "    soup = bs(r.text,\"lxml\")\n",
    "    # for each in soup.find_all('script'):\n",
    "    #     print(each)\n",
    "    # 找出OP需要的query_string\n",
    "    # for each in soup.find_all('script'):\n",
    "    #     print(each)\n",
    "    if(len(soup.find_all('script')) == 5):\n",
    "        query_string = get_query_string(soup.find_all('script')[4].string)\n",
    "        # 送Get到OP\n",
    "        res = session.get(OP_url,headers=headers,params=query_string)\n",
    "        print(\"預約成功!\")\n",
    "        print(\"預約日期: \" + Date)\n",
    "        print(\"預約房號: \" + RoomNum)\n",
    "        print(\"預約時段: \" + time_to_res)\n",
    "    else:\n",
    "        print(\"預約失敗\")\n",
    "\n"
   ]
  },
  {
   "cell_type": "code",
   "execution_count": 233,
   "metadata": {},
   "outputs": [
    {
     "name": "stdout",
     "output_type": "stream",
     "text": [
      "預約成功!\n",
      "預約日期: 2020-06-24\n",
      "預約房號: 547\n"
     ]
    },
    {
     "ename": "TypeError",
     "evalue": "can only concatenate str (not \"module\") to str",
     "output_type": "error",
     "traceback": [
      "\u001b[1;31m---------------------------------------------------------------------------\u001b[0m",
      "\u001b[1;31mTypeError\u001b[0m                                 Traceback (most recent call last)",
      "\u001b[1;32m<ipython-input-233-42ea753474e4>\u001b[0m in \u001b[0;36m<module>\u001b[1;34m\u001b[0m\n\u001b[0;32m      5\u001b[0m     \u001b[0mnow\u001b[0m \u001b[1;33m=\u001b[0m \u001b[0mdatetime\u001b[0m\u001b[1;33m.\u001b[0m\u001b[0mdatetime\u001b[0m\u001b[1;33m.\u001b[0m\u001b[0mnow\u001b[0m\u001b[1;33m(\u001b[0m\u001b[1;33m)\u001b[0m\u001b[1;33m\u001b[0m\u001b[1;33m\u001b[0m\u001b[0m\n\u001b[0;32m      6\u001b[0m     \u001b[1;32mif\u001b[0m \u001b[0mnow\u001b[0m\u001b[1;33m.\u001b[0m\u001b[0mhour\u001b[0m \u001b[1;33m==\u001b[0m \u001b[1;36m16\u001b[0m \u001b[1;32mand\u001b[0m \u001b[0mnow\u001b[0m\u001b[1;33m.\u001b[0m\u001b[0mminute\u001b[0m \u001b[1;33m==\u001b[0m \u001b[1;36m39\u001b[0m\u001b[1;33m:\u001b[0m\u001b[1;33m\u001b[0m\u001b[1;33m\u001b[0m\u001b[0m\n\u001b[1;32m----> 7\u001b[1;33m         \u001b[0mreserve\u001b[0m\u001b[1;33m(\u001b[0m\u001b[1;33m)\u001b[0m\u001b[1;33m\u001b[0m\u001b[1;33m\u001b[0m\u001b[0m\n\u001b[0m\u001b[0;32m      8\u001b[0m         \u001b[1;32mbreak\u001b[0m\u001b[1;33m\u001b[0m\u001b[1;33m\u001b[0m\u001b[0m\n",
      "\u001b[1;32m<ipython-input-232-51f6e08a3c21>\u001b[0m in \u001b[0;36mreserve\u001b[1;34m()\u001b[0m\n\u001b[0;32m     24\u001b[0m         \u001b[0mprint\u001b[0m\u001b[1;33m(\u001b[0m\u001b[1;34m\"預約日期: \"\u001b[0m \u001b[1;33m+\u001b[0m \u001b[0mDate\u001b[0m\u001b[1;33m)\u001b[0m\u001b[1;33m\u001b[0m\u001b[1;33m\u001b[0m\u001b[0m\n\u001b[0;32m     25\u001b[0m         \u001b[0mprint\u001b[0m\u001b[1;33m(\u001b[0m\u001b[1;34m\"預約房號: \"\u001b[0m \u001b[1;33m+\u001b[0m \u001b[0mRoomNum\u001b[0m\u001b[1;33m)\u001b[0m\u001b[1;33m\u001b[0m\u001b[1;33m\u001b[0m\u001b[0m\n\u001b[1;32m---> 26\u001b[1;33m         \u001b[0mprint\u001b[0m\u001b[1;33m(\u001b[0m\u001b[1;34m\"預約時段: \"\u001b[0m \u001b[1;33m+\u001b[0m \u001b[0mtime\u001b[0m\u001b[1;33m)\u001b[0m\u001b[1;33m\u001b[0m\u001b[1;33m\u001b[0m\u001b[0m\n\u001b[0m\u001b[0;32m     27\u001b[0m     \u001b[1;32melse\u001b[0m\u001b[1;33m:\u001b[0m\u001b[1;33m\u001b[0m\u001b[1;33m\u001b[0m\u001b[0m\n\u001b[0;32m     28\u001b[0m         \u001b[0mprint\u001b[0m\u001b[1;33m(\u001b[0m\u001b[1;34m\"預約失敗\"\u001b[0m\u001b[1;33m)\u001b[0m\u001b[1;33m\u001b[0m\u001b[1;33m\u001b[0m\u001b[0m\n",
      "\u001b[1;31mTypeError\u001b[0m: can only concatenate str (not \"module\") to str"
     ]
    }
   ],
   "source": [
    "import datetime\n",
    "import time\n",
    "while True:\n",
    "    now = datetime.datetime.now()\n",
    "    if now.hour == 16 and now.minute == 39:\n",
    "        reserve()\n",
    "        break"
   ]
  },
  {
   "cell_type": "code",
   "execution_count": null,
   "metadata": {},
   "outputs": [],
   "source": []
  }
 ],
 "metadata": {
  "kernelspec": {
   "display_name": "Python 3",
   "language": "python",
   "name": "python3"
  },
  "language_info": {
   "codemirror_mode": {
    "name": "ipython",
    "version": 3
   },
   "file_extension": ".py",
   "mimetype": "text/x-python",
   "name": "python",
   "nbconvert_exporter": "python",
   "pygments_lexer": "ipython3",
   "version": "3.7.4"
  }
 },
 "nbformat": 4,
 "nbformat_minor": 2
}
